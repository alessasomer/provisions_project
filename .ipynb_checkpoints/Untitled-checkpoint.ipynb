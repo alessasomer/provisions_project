{
 "cells": [
  {
   "cell_type": "code",
   "execution_count": null,
   "id": "970ded78-0612-4ac1-b976-8319593d7182",
   "metadata": {},
   "outputs": [],
   "source": [
    "#try json encoding on the data\n",
    "from typing import *\n",
    "import json\n",
    "\n",
    "class CustomJSONEncoder(json.JSONEncoder):\n",
    "    def default(self, o: Any) -> Any:\n",
    "        if isinstance(o, (int, bool, str, float)):\n",
    "            return o\n",
    "        elif o is None:\n",
    "            return None\n",
    "        elif isinstance(o, dict):\n",
    "            return o\n",
    "        elif isinstance(o, list):\n",
    "            return o\n",
    "        elif isinstance(o, tuple):\n",
    "            return {\"_type\": \"tuple\", \"data\": list(o)}\n",
    "        elif isinstance(o, set):\n",
    "            return {\"_type\": \"set\", \"data\": list(o)}\n",
    "        elif isinstance(o, pd.DataFrame):\n",
    "            return {\"_type\": \"dataframe\", \"data\": o.to_dict()}\n",
    "        elif isinstance(o, np.ndarray):\n",
    "            return {\"_type\": \"ndarray\", \"data\": o.tolist()}\n",
    "        else:\n",
    "            return super().default(o)\n",
    "\n",
    "def encode_result(data: Any) -> str:\n",
    "    return json.dumps(data, cls=CustomJSONEncoder)"
   ]
  }
 ],
 "metadata": {
  "kernelspec": {
   "display_name": "Python 3 (ipykernel)",
   "language": "python",
   "name": "python3"
  },
  "language_info": {
   "codemirror_mode": {
    "name": "ipython",
    "version": 3
   },
   "file_extension": ".py",
   "mimetype": "text/x-python",
   "name": "python",
   "nbconvert_exporter": "python",
   "pygments_lexer": "ipython3",
   "version": "3.8.15"
  }
 },
 "nbformat": 4,
 "nbformat_minor": 5
}
